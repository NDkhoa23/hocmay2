{
 "cells": [
  {
   "cell_type": "code",
   "execution_count": 1,
   "id": "5ee331df",
   "metadata": {},
   "outputs": [],
   "source": [
    "import cv2"
   ]
  },
  {
   "cell_type": "code",
   "execution_count": 2,
   "id": "e50258b8",
   "metadata": {},
   "outputs": [],
   "source": [
    "import os\n",
    "import glob\n",
    "import numpy as np\n",
    "from tensorflow.keras.preprocessing.image import ImageDataGenerator\n",
    "\n",
    "IMG_SIZE = 224\n",
    "AUGMENT_TIMES = 5  # Nhân mỗi ảnh lên 5 lần\n",
    "\n",
    "# Khởi tạo bộ sinh ảnh\n",
    "augmentor = ImageDataGenerator(\n",
    "    rotation_range=20,\n",
    "    width_shift_range=0.1,\n",
    "    height_shift_range=0.1,\n",
    "    zoom_range=0.2,\n",
    "    horizontal_flip=True,\n",
    "    fill_mode='nearest'\n",
    ")\n",
    "\n",
    "def augment_and_save_images(class_name):\n",
    "    input_path = os.path.join('DataTranning', class_name)\n",
    "    image_paths = glob.glob(os.path.join(input_path, '*'))\n",
    "\n",
    "    for img_path in image_paths:\n",
    "        img = cv2.imread(img_path)\n",
    "        img = cv2.resize(img, (IMG_SIZE, IMG_SIZE))\n",
    "        img = cv2.cvtColor(img, cv2.COLOR_BGR2RGB)\n",
    "        img = img / 255.0\n",
    "        img = np.expand_dims(img, axis=0)\n",
    "\n",
    "        # Tạo ảnh mới\n",
    "        aug_iter = augmentor.flow(img, batch_size=1)\n",
    "        base_name = os.path.splitext(os.path.basename(img_path))[0]\n",
    "\n",
    "        for i in range(AUGMENT_TIMES):\n",
    "            aug_img = next(aug_iter)[0] * 255.0\n",
    "            aug_img = aug_img.astype(np.uint8)\n",
    "            aug_img = cv2.cvtColor(aug_img, cv2.COLOR_RGB2BGR)\n",
    "\n",
    "            save_path = os.path.join(input_path, f\"{base_name}_aug{i}.jpg\")\n",
    "            cv2.imwrite(save_path, aug_img)\n",
    "\n",
    "# Thực hiện nhân ảnh cho từng lớp\n",
    "augment_and_save_images('good')\n",
    "augment_and_save_images('error')\n"
   ]
  },
  {
   "cell_type": "code",
   "execution_count": 3,
   "id": "adbfc2fb",
   "metadata": {},
   "outputs": [],
   "source": [
    "import os\n",
    "import shutil\n",
    "import random\n",
    "\n",
    "def split_dataset(source_dir, target_dir, split_ratio=0.2):\n",
    "    if not os.path.exists(target_dir):\n",
    "        os.makedirs(target_dir)\n",
    "\n",
    "    class_names = os.listdir(source_dir)\n",
    "    for class_name in class_names:\n",
    "        src_class_dir = os.path.join(source_dir, class_name)\n",
    "        dst_class_dir = os.path.join(target_dir, class_name)\n",
    "\n",
    "        if not os.path.exists(dst_class_dir):\n",
    "            os.makedirs(dst_class_dir)\n",
    "\n",
    "        # Lấy danh sách ảnh\n",
    "        image_files = [f for f in os.listdir(src_class_dir) if os.path.isfile(os.path.join(src_class_dir, f))]\n",
    "\n",
    "        # Xáo trộn và chọn ảnh để copy\n",
    "        random.shuffle(image_files)\n",
    "        num_to_copy = int(len(image_files) * split_ratio)\n",
    "        images_to_copy = image_files[:num_to_copy]\n",
    "\n",
    "        for img_name in images_to_copy:\n",
    "            src_img_path = os.path.join(src_class_dir, img_name)\n",
    "            dst_img_path = os.path.join(dst_class_dir, img_name)\n",
    "            shutil.copy2(src_img_path, dst_img_path)\n",
    "\n",
    "# Thực hiện chia ảnh từ DataTranning sang DataTest\n",
    "split_dataset('DataTranning', 'DataTest', split_ratio=0.2)\n"
   ]
  },
  {
   "cell_type": "code",
   "execution_count": null,
   "id": "db10fd34",
   "metadata": {},
   "outputs": [],
   "source": []
  }
 ],
 "metadata": {
  "kernelspec": {
   "display_name": "myenv",
   "language": "python",
   "name": "python3"
  },
  "language_info": {
   "codemirror_mode": {
    "name": "ipython",
    "version": 3
   },
   "file_extension": ".py",
   "mimetype": "text/x-python",
   "name": "python",
   "nbconvert_exporter": "python",
   "pygments_lexer": "ipython3",
   "version": "3.10.8"
  }
 },
 "nbformat": 4,
 "nbformat_minor": 5
}
